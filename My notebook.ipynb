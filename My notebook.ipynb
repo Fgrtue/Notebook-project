{
 "cells": [
  {
   "cell_type": "markdown",
   "metadata": {
    "collapsed": true
   },
   "source": [
    "# My Jupyter Notebook on IBM Watson Studio"
   ]
  },
  {
   "cell_type": "markdown",
   "metadata": {},
   "source": [
    "<b> Kirill Kopnev </b>\n",
    "\n",
    "Master Student"
   ]
  },
  {
   "cell_type": "markdown",
   "metadata": {},
   "source": [
    "<i> I am interested in data science because I want to get a job. </i>"
   ]
  },
  {
   "cell_type": "markdown",
   "metadata": {},
   "source": [
    "### My code is a binomial coefficient \"5 choose 3\""
   ]
  },
  {
   "cell_type": "code",
   "execution_count": 5,
   "metadata": {},
   "outputs": [
    {
     "name": "stdout",
     "output_type": "stream",
     "text": [
      "10.0\n"
     ]
    }
   ],
   "source": [
    "import math\n",
    "print(math.factorial(5)/(math.factorial(3)*math.factorial(2)))"
   ]
  },
  {
   "attachments": {},
   "cell_type": "markdown",
   "metadata": {},
   "source": [
    "<hr>\n",
    "\n",
    "| Name | Salary | ccupation |\n",
    "| ---- | ------ | ------ |\n",
    "| Kirill| 0 | Student |\n",
    "| You | ??? | ??? |\n",
    "\n",
    "<hr>\n",
    "\n",
    "<ol>\n",
    "    <li> How to start making money? </li>\n",
    "    <li> Study the course from IBM </li>\n",
    "    <li> Do simple stuff </li>\n",
    "    <li> Hope that it will work out </li>\n",
    "    <ol>\n",
    "        \n",
    " <br>     \n",
    "        \n",
    " __[Follow me on Inst](https://www.instagram.com/fgrtue/)__\n",
    "        \n",
    "        \n",
    "  "
   ]
  },
  {
   "cell_type": "code",
   "execution_count": null,
   "metadata": {},
   "outputs": [],
   "source": []
  },
  {
   "cell_type": "code",
   "execution_count": null,
   "metadata": {},
   "outputs": [],
   "source": []
  }
 ],
 "metadata": {
  "kernelspec": {
   "display_name": "Python 3.9",
   "language": "python",
   "name": "python3"
  },
  "language_info": {
   "codemirror_mode": {
    "name": "ipython",
    "version": 3
   },
   "file_extension": ".py",
   "mimetype": "text/x-python",
   "name": "python",
   "nbconvert_exporter": "python",
   "pygments_lexer": "ipython3",
   "version": "3.9.12"
  }
 },
 "nbformat": 4,
 "nbformat_minor": 1
}
